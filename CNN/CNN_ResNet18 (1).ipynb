{
  "cells": [
    {
      "cell_type": "code",
      "execution_count": 12,
      "metadata": {
        "colab": {
          "base_uri": "https://localhost:8080/"
        },
        "id": "wiVR10til73Q",
        "outputId": "8f2f6196-74b7-4368-f7c3-dbf74229d0b4"
      },
      "outputs": [
        {
          "name": "stdout",
          "output_type": "stream",
          "text": [
            "Requirement already satisfied: optuna in /usr/local/lib/python3.10/dist-packages (4.0.0)\n",
            "Requirement already satisfied: alembic>=1.5.0 in /usr/local/lib/python3.10/dist-packages (from optuna) (1.13.3)\n",
            "Requirement already satisfied: colorlog in /usr/local/lib/python3.10/dist-packages (from optuna) (6.8.2)\n",
            "Requirement already satisfied: numpy in /usr/local/lib/python3.10/dist-packages (from optuna) (1.26.4)\n",
            "Requirement already satisfied: packaging>=20.0 in /usr/local/lib/python3.10/dist-packages (from optuna) (24.1)\n",
            "Requirement already satisfied: sqlalchemy>=1.3.0 in /usr/local/lib/python3.10/dist-packages (from optuna) (2.0.35)\n",
            "Requirement already satisfied: tqdm in /usr/local/lib/python3.10/dist-packages (from optuna) (4.66.5)\n",
            "Requirement already satisfied: PyYAML in /usr/local/lib/python3.10/dist-packages (from optuna) (6.0.2)\n",
            "Requirement already satisfied: Mako in /usr/local/lib/python3.10/dist-packages (from alembic>=1.5.0->optuna) (1.3.5)\n",
            "Requirement already satisfied: typing-extensions>=4 in /usr/local/lib/python3.10/dist-packages (from alembic>=1.5.0->optuna) (4.12.2)\n",
            "Requirement already satisfied: greenlet!=0.4.17 in /usr/local/lib/python3.10/dist-packages (from sqlalchemy>=1.3.0->optuna) (3.1.1)\n",
            "Requirement already satisfied: MarkupSafe>=0.9.2 in /usr/local/lib/python3.10/dist-packages (from Mako->alembic>=1.5.0->optuna) (2.1.5)\n"
          ]
        }
      ],
      "source": [
        "import os\n",
        "import pandas as pd\n",
        "import numpy as np\n",
        "import random\n",
        "from PIL import Image, UnidentifiedImageError\n",
        "import torch\n",
        "from torch.utils.data import Dataset, DataLoader\n",
        "from torch.utils.data import Subset\n",
        "import torchvision.transforms as transforms\n",
        "import torch.nn as nn\n",
        "import torch.optim as optim\n",
        "import torchvision.models as models\n",
        "import optuna\n",
        "from optuna import TrialPruned\n",
        "import matplotlib.pyplot as plt\n",
        "from torch.optim.lr_scheduler import ReduceLROnPlateau\n",
        "from sklearn.model_selection import train_test_split\n",
        "from torchvision import models\n",
        "from torch.optim.lr_scheduler import StepLR\n",
        "from torch.utils.data import DataLoader\n",
        "\n",
        "!pip install optuna\n"
      ]
    },
    {
      "cell_type": "code",
      "execution_count": 13,
      "metadata": {
        "id": "7Q5-lrXzmER-"
      },
      "outputs": [],
      "source": [
        "# Device configuration\n",
        "device = torch.device(\"cuda:0\" if torch.cuda.is_available() else \"cpu\")\n",
        "\n",
        "# Load the CSV\n",
        "csv_file = 'drive/MyDrive/updated_image_labels.csv'\n",
        "data_df = pd.read_csv(csv_file)\n"
      ]
    },
    {
      "cell_type": "markdown",
      "metadata": {
        "id": "EkVNfgRWJQZL"
      },
      "source": [
        "## Preparing the dataset"
      ]
    },
    {
      "cell_type": "code",
      "execution_count": 14,
      "metadata": {
        "id": "NfvR89XvmJbn"
      },
      "outputs": [],
      "source": [
        "\n",
        "# Dataset class\n",
        "class SkinConditionDataset(Dataset):\n",
        "    def __init__(self, dataframe, img_dir, transform=None):\n",
        "        self.dataframe = dataframe\n",
        "        self.img_dir = img_dir\n",
        "        self.transform = transform\n",
        "\n",
        "    def __len__(self):\n",
        "        return len(self.dataframe)\n",
        "\n",
        "    def __getitem__(self, idx):\n",
        "        img_name = self.dataframe.iloc[idx, 0]\n",
        "        img_path = os.path.join(self.img_dir, img_name)\n",
        "\n",
        "        try:\n",
        "            image = Image.open(img_path)\n",
        "\n",
        "            # Convert image to RGB if it's not\n",
        "            if image.mode != 'RGB':\n",
        "                image = image.convert('RGB')\n",
        "        except (FileNotFoundError, UnidentifiedImageError) as e:\n",
        "            print(f\"Skipping file {img_name}, as it is not a valid image: {e}\")\n",
        "            return None\n",
        "\n",
        "        # Ensure the labels are converted to float\n",
        "        labels = self.dataframe.iloc[idx, 1:].values.astype('float32')\n",
        "\n",
        "        if self.transform:\n",
        "            image = self.transform(image)\n",
        "\n",
        "        return image, torch.tensor(labels, dtype=torch.float32)  # Specify dtype as Float\n",
        "\n",
        "\n",
        "# Define image transformations\n",
        "data_transforms = transforms.Compose([\n",
        "    transforms.Resize((224, 224)),\n",
        "    transforms.RandomResizedCrop(size=(224, 224), scale=(0.8, 1.0)),  # Randomly crop images\n",
        "    transforms.RandomHorizontalFlip(),\n",
        "    transforms.RandomRotation(10),\n",
        "    transforms.ColorJitter(brightness=0.2, contrast=0.2, saturation=0.2, hue=0.1),\n",
        "    transforms.ToTensor(),\n",
        "    transforms.Normalize(mean=[0.485, 0.456, 0.406], std=[0.229, 0.224, 0.225])  # Normalization for 3 channels\n",
        "])"
      ]
    },
    {
      "cell_type": "markdown",
      "metadata": {
        "id": "hMua8cxrJqt3"
      },
      "source": [
        "## Loading data into loaders"
      ]
    },
    {
      "cell_type": "code",
      "execution_count": 15,
      "metadata": {
        "colab": {
          "base_uri": "https://localhost:8080/"
        },
        "id": "C0tLbag6mLdb",
        "outputId": "31bbabbd-7eb8-4135-8e7e-1288a15d02e3"
      },
      "outputs": [
        {
          "name": "stdout",
          "output_type": "stream",
          "text": [
            "Skipping file desktop.ini, as it is not a valid image: cannot identify image file '/content/drive/MyDrive/images/acne_image_multi_label/desktop.ini'\n"
          ]
        }
      ],
      "source": [
        "\n",
        "# Load the dataset\n",
        "img_dir = 'drive/MyDrive/images/acne_image_multi_label'  # Update with the path to your images\n",
        "\n",
        "# Split the data into training and validation sets\n",
        "train_df, val_df = train_test_split(data_df, test_size=0.2, random_state=42)\n",
        "\n",
        "# Create datasets for train and validation\n",
        "train_dataset = SkinConditionDataset(dataframe=train_df, img_dir=img_dir, transform=data_transforms)\n",
        "val_dataset = SkinConditionDataset(dataframe=val_df, img_dir=img_dir, transform=data_transforms)\n",
        "\n",
        "# Filter out None entries (skipped images)\n",
        "train_dataset = [item for item in train_dataset if item is not None]\n",
        "val_dataset = [item for item in val_dataset if item is not None]\n",
        "\n",
        "# Data loaders\n",
        "train_loader = DataLoader(train_dataset, batch_size=32, shuffle=True)\n",
        "val_loader = DataLoader(val_dataset, batch_size=32, shuffle=False)"
      ]
    },
    {
      "cell_type": "markdown",
      "metadata": {
        "id": "wmNiiaZCJzBR"
      },
      "source": [
        "## Early Stopping function Implementation"
      ]
    },
    {
      "cell_type": "code",
      "execution_count": 16,
      "metadata": {
        "id": "g7h2wuDfmOdd"
      },
      "outputs": [],
      "source": [
        "# Early stopping implementation\n",
        "class EarlyStopping:\n",
        "    def __init__(self, patience=5, delta=0.001):\n",
        "        self.patience = patience\n",
        "        self.delta = delta\n",
        "        self.counter = 0\n",
        "        self.best_loss = np.Inf\n",
        "        self.early_stop = False\n",
        "\n",
        "    def __call__(self, val_loss):\n",
        "        if val_loss < self.best_loss - self.delta:\n",
        "            self.best_loss = val_loss\n",
        "            self.counter = 0\n",
        "        else:\n",
        "            self.counter += 1\n",
        "            if self.counter >= self.patience:\n",
        "                self.early_stop = True"
      ]
    },
    {
      "cell_type": "markdown",
      "metadata": {
        "id": "yQC0j_OEKIbL"
      },
      "source": [
        "## Initializing the model"
      ]
    },
    {
      "cell_type": "code",
      "execution_count": 17,
      "metadata": {
        "id": "uWLZ-fUhmSZC"
      },
      "outputs": [],
      "source": [
        "# Define a function to initialize the model with customizable hyperparameters\n",
        "def initialize_model(dropout_rate, learning_rate, weight_decay):\n",
        "    model = models.resnet18(pretrained=True)\n",
        "    num_classes = 5  # Number of skin condition classes\n",
        "\n",
        "    # Replace the fully connected layer with dropout and customized output\n",
        "    model.fc = nn.Sequential(\n",
        "        nn.Dropout(p=dropout_rate),\n",
        "        nn.Linear(model.fc.in_features, num_classes),\n",
        "    )\n",
        "\n",
        "    model = model.to(device)\n",
        "\n",
        "    # Define loss function and optimizer\n",
        "    criterion = nn.BCEWithLogitsLoss()  # Binary classification, multi-label\n",
        "    optimizer = optim.Adam(model.parameters(), lr=learning_rate, weight_decay=weight_decay)  # L2 regularization through weight decay\n",
        "\n",
        "    return model, criterion, optimizer"
      ]
    },
    {
      "cell_type": "markdown",
      "metadata": {
        "id": "ltMXIMEDKPOZ"
      },
      "source": [
        "## HyperParameter Tuning"
      ]
    },
    {
      "cell_type": "code",
      "execution_count": 24,
      "metadata": {
        "id": "2iwtuksWmY6W"
      },
      "outputs": [],
      "source": [
        "\n",
        "# Evaluation function\n",
        "def evaluate_model(model, dataloader, criterion):\n",
        "    model.eval()\n",
        "    total_loss = 0.0\n",
        "    correct = 0\n",
        "    total = 0\n",
        "\n",
        "    with torch.no_grad():\n",
        "        for images, labels in dataloader:\n",
        "            if images is None:\n",
        "                continue\n",
        "\n",
        "            images, labels = images.to(device), labels.to(device)\n",
        "            outputs = model(images)\n",
        "            loss = criterion(outputs, labels)\n",
        "            total_loss += loss.item()\n",
        "\n",
        "            # Calculate accuracy\n",
        "            preds = torch.sigmoid(outputs).round()  # For multi-label binary classification\n",
        "            correct += (preds == labels).sum().item()\n",
        "            total += labels.numel()\n",
        "\n",
        "    average_loss = total_loss / len(dataloader)\n",
        "    accuracy = correct / total\n",
        "\n",
        "    return average_loss, accuracy\n",
        "\n",
        "# Training function\n",
        "def train_model(model, criterion, optimizer, train_loader, val_loader, num_epochs=20, patience=5):\n",
        "    train_losses, val_losses = [], []\n",
        "    train_accuracies, val_accuracies = [], []\n",
        "\n",
        "    # Early stopping instance\n",
        "    early_stopping = EarlyStopping(patience=patience)\n",
        "\n",
        "    # LR scheduler that reduces LR when a metric has stopped improving\n",
        "    scheduler = ReduceLROnPlateau(optimizer, mode='min', factor=0.1, patience=3, verbose=True)\n",
        "\n",
        "    for epoch in range(num_epochs):\n",
        "        model.train()\n",
        "        running_loss = 0.0\n",
        "        correct_train = 0\n",
        "        total_train = 0\n",
        "\n",
        "        for images, labels in train_loader:\n",
        "            if images is None:\n",
        "                continue\n",
        "\n",
        "            images, labels = images.to(device), labels.to(device)\n",
        "            optimizer.zero_grad()\n",
        "\n",
        "            # Forward pass\n",
        "            outputs = model(images)\n",
        "            loss = criterion(outputs, labels)\n",
        "            loss.backward()\n",
        "            optimizer.step()\n",
        "\n",
        "            running_loss += loss.item()\n",
        "\n",
        "            # Calculate training accuracy\n",
        "            preds = torch.sigmoid(outputs).round()  # For multi-label binary classification\n",
        "            correct_train += (preds == labels).sum().item()\n",
        "            total_train += labels.numel()\n",
        "\n",
        "        epoch_loss = running_loss / len(train_loader)\n",
        "        train_losses.append(epoch_loss)\n",
        "        train_accuracy = correct_train / total_train\n",
        "        train_accuracies.append(train_accuracy)\n",
        "\n",
        "        print(f\"Epoch {epoch + 1}/{num_epochs}, Loss: {epoch_loss:.4f}, Accuracy: {train_accuracy:.4f}\")\n",
        "\n",
        "        # Validation step\n",
        "        val_loss, val_accuracy = evaluate_model(model, val_loader, criterion)\n",
        "        val_losses.append(val_loss)\n",
        "        val_accuracies.append(val_accuracy)\n",
        "        print(f\"Validation Loss: {val_loss:.4f}, Validation Accuracy: {val_accuracy:.4f}\")\n",
        "\n",
        "        # Step the LR scheduler\n",
        "        scheduler.step(val_loss)\n",
        "\n",
        "        # Check early stopping condition\n",
        "        early_stopping(val_loss)\n",
        "        if early_stopping.early_stop:\n",
        "            print(\"Early stopping triggered\")\n",
        "            break\n",
        "\n",
        "    return model"
      ]
    },
    {
      "cell_type": "code",
      "execution_count": 19,
      "metadata": {
        "colab": {
          "base_uri": "https://localhost:8080/"
        },
        "id": "PRUyefQWmfLj",
        "outputId": "33f5acb4-6040-4c40-95f8-4dd0c51abdc6"
      },
      "outputs": [
        {
          "name": "stderr",
          "output_type": "stream",
          "text": [
            "[I 2024-10-06 06:43:47,223] A new study created in memory with name: no-name-dba1611d-45a8-45d0-9211-a462d47ccc77\n",
            "<ipython-input-19-c7f3ec2b41ba>:10: FutureWarning: suggest_loguniform has been deprecated in v3.0.0. This feature will be removed in v6.0.0. See https://github.com/optuna/optuna/releases/tag/v3.0.0. Use suggest_float(..., log=True) instead.\n",
            "  lr = trial.suggest_loguniform('lr', 1e-5, 1e-2)\n",
            "<ipython-input-19-c7f3ec2b41ba>:11: FutureWarning: suggest_uniform has been deprecated in v3.0.0. This feature will be removed in v6.0.0. See https://github.com/optuna/optuna/releases/tag/v3.0.0. Use suggest_float instead.\n",
            "  dropout = trial.suggest_uniform('dropout', 0.2, 0.6)\n",
            "/usr/local/lib/python3.10/dist-packages/torchvision/models/_utils.py:208: UserWarning: The parameter 'pretrained' is deprecated since 0.13 and may be removed in the future, please use 'weights' instead.\n",
            "  warnings.warn(\n",
            "/usr/local/lib/python3.10/dist-packages/torchvision/models/_utils.py:223: UserWarning: Arguments other than a weight enum or `None` for 'weights' are deprecated since 0.13 and may be removed in the future. The current behavior is equivalent to passing `weights=ResNet18_Weights.IMAGENET1K_V1`. You can also use `weights=ResNet18_Weights.DEFAULT` to get the most up-to-date weights.\n",
            "  warnings.warn(msg)\n",
            "[I 2024-10-06 06:46:52,866] Trial 0 finished with value: 0.5525713562965393 and parameters: {'lr': 5.102677177214747e-05, 'dropout': 0.2239202836681412}. Best is trial 0 with value: 0.5525713562965393.\n",
            "[I 2024-10-06 06:49:35,334] Trial 1 finished with value: 0.6465492248535156 and parameters: {'lr': 2.6701777047950528e-05, 'dropout': 0.3928843470759037}. Best is trial 0 with value: 0.5525713562965393.\n",
            "[I 2024-10-06 06:52:17,908] Trial 2 finished with value: 1.6048002640406291 and parameters: {'lr': 0.000901746483437346, 'dropout': 0.43967534909682604}. Best is trial 0 with value: 0.5525713562965393.\n",
            "[I 2024-10-06 06:55:06,417] Trial 3 finished with value: 0.5326743721961975 and parameters: {'lr': 0.000113164928448851, 'dropout': 0.32777037339537907}. Best is trial 3 with value: 0.5326743721961975.\n",
            "[I 2024-10-06 06:57:50,837] Trial 4 finished with value: 0.6298375328381857 and parameters: {'lr': 2.4292753910004203e-05, 'dropout': 0.3018353217544894}. Best is trial 3 with value: 0.5326743721961975.\n",
            "[I 2024-10-06 06:58:24,898] Trial 5 pruned. \n",
            "[I 2024-10-06 06:58:57,838] Trial 6 pruned. \n"
          ]
        },
        {
          "name": "stdout",
          "output_type": "stream",
          "text": [
            "Best Hyperparameters: {'lr': 0.000113164928448851, 'dropout': 0.32777037339537907}, Best Validation Loss: 0.5327\n"
          ]
        }
      ],
      "source": [
        "def reduce_dataset(dataset, percentage=0.1):\n",
        "    dataset_size = len(dataset)\n",
        "    reduced_size = int(dataset_size * percentage)\n",
        "    indices = random.sample(range(dataset_size), reduced_size)\n",
        "    return Subset(dataset, indices)\n",
        "\n",
        "# Define the objective function for Optuna with pruning\n",
        "def objective(trial):\n",
        "    # Suggest values for hyperparameters\n",
        "    lr = trial.suggest_loguniform('lr', 1e-5, 1e-2)\n",
        "    dropout = trial.suggest_uniform('dropout', 0.2, 0.6)\n",
        "    batch_size = 32  # Fixed\n",
        "    weight_decay = 1e-4  # Fixed value for weight decay\n",
        "\n",
        "    # Initialize model with suggested hyperparameters\n",
        "    model, criterion, optimizer = initialize_model(dropout_rate=dropout, learning_rate=lr, weight_decay=weight_decay)\n",
        "\n",
        "    # Take only subset to find best hyperparameters\n",
        "    reduced_train_dataset = reduce_dataset(train_dataset, percentage=0.1)  # Using 10% of the original dataset\n",
        "    reduced_val_dataset = reduce_dataset(val_dataset, percentage=0.3)\n",
        "\n",
        "    # DataLoader for reduced datasets\n",
        "    train_loader = DataLoader(reduced_train_dataset, batch_size=batch_size, shuffle=True)\n",
        "    val_loader = DataLoader(reduced_val_dataset, batch_size=batch_size)\n",
        "\n",
        "    # Number of epochs for hyperparameter search\n",
        "    num_epochs = 5\n",
        "    patience = 2  # Early stopping patience\n",
        "\n",
        "    # Track validation loss for pruning\n",
        "    val_losses = []\n",
        "\n",
        "    for epoch in range(num_epochs):\n",
        "        # Train the model\n",
        "        model.train()\n",
        "        for images, labels in train_loader:\n",
        "            images, labels = images.to(device), labels.to(device)\n",
        "            optimizer.zero_grad()\n",
        "            outputs = model(images)\n",
        "            loss = criterion(outputs, labels)\n",
        "            loss.backward()\n",
        "            optimizer.step()\n",
        "\n",
        "        # Evaluate model on validation data\n",
        "        val_loss, val_accuracy = evaluate_model(model, val_loader, criterion)\n",
        "        val_losses.append(val_loss)\n",
        "\n",
        "        # Report intermediate results to Optuna (for pruning)\n",
        "        trial.report(val_loss, epoch)\n",
        "\n",
        "        # Prune if the trial should be stopped early\n",
        "        if trial.should_prune():\n",
        "            raise TrialPruned()\n",
        "\n",
        "    # Return final validation loss as the objective metric\n",
        "    return val_loss\n",
        "\n",
        "# Define the Optuna study and run the hyperparameter search with pruning\n",
        "study = optuna.create_study(direction=\"minimize\", pruner=optuna.pruners.MedianPruner())\n",
        "study.optimize(objective, n_trials=7)\n",
        "\n",
        "# Get the best hyperparameters from the study\n",
        "best_params = study.best_params\n",
        "print(f\"Best Hyperparameters: {best_params}, Best Validation Loss: {study.best_value:.4f}\")"
      ]
    },
    {
      "cell_type": "markdown",
      "metadata": {
        "id": "UXFRP56gKdOL"
      },
      "source": [
        "## Training the final model"
      ]
    },
    {
      "cell_type": "code",
      "execution_count": 25,
      "metadata": {
        "colab": {
          "base_uri": "https://localhost:8080/"
        },
        "id": "gkQ5MofOmkjP",
        "outputId": "cc5f830d-1592-4f21-f641-6e96f4c7792a"
      },
      "outputs": [
        {
          "name": "stderr",
          "output_type": "stream",
          "text": [
            "/usr/local/lib/python3.10/dist-packages/torchvision/models/_utils.py:208: UserWarning: The parameter 'pretrained' is deprecated since 0.13 and may be removed in the future, please use 'weights' instead.\n",
            "  warnings.warn(\n",
            "/usr/local/lib/python3.10/dist-packages/torchvision/models/_utils.py:223: UserWarning: Arguments other than a weight enum or `None` for 'weights' are deprecated since 0.13 and may be removed in the future. The current behavior is equivalent to passing `weights=ResNet18_Weights.IMAGENET1K_V1`. You can also use `weights=ResNet18_Weights.DEFAULT` to get the most up-to-date weights.\n",
            "  warnings.warn(msg)\n",
            "/usr/local/lib/python3.10/dist-packages/torch/optim/lr_scheduler.py:60: UserWarning: The verbose parameter is deprecated. Please use get_last_lr() to access the learning rate.\n",
            "  warnings.warn(\n"
          ]
        },
        {
          "name": "stdout",
          "output_type": "stream",
          "text": [
            "Epoch 1/25, Loss: 0.5673\n",
            "Validation Loss: 0.3867, Validation Accuracy: 0.8276\n",
            "Epoch 2/25, Loss: 0.2703\n",
            "Validation Loss: 0.3367, Validation Accuracy: 0.8536\n",
            "Epoch 3/25, Loss: 0.1512\n",
            "Validation Loss: 0.2946, Validation Accuracy: 0.8690\n",
            "Epoch 4/25, Loss: 0.0824\n",
            "Validation Loss: 0.2810, Validation Accuracy: 0.8782\n",
            "Epoch 5/25, Loss: 0.0534\n",
            "Validation Loss: 0.2916, Validation Accuracy: 0.8789\n",
            "Epoch 6/25, Loss: 0.0384\n",
            "Validation Loss: 0.2861, Validation Accuracy: 0.8782\n",
            "Epoch 7/25, Loss: 0.0268\n",
            "Validation Loss: 0.3008, Validation Accuracy: 0.8774\n",
            "Epoch 8/25, Loss: 0.0225\n",
            "Validation Loss: 0.2855, Validation Accuracy: 0.8904\n",
            "Epoch 9/25, Loss: 0.0191\n",
            "Validation Loss: 0.2897, Validation Accuracy: 0.8782\n",
            "Early stopping triggered\n"
          ]
        }
      ],
      "source": [
        "\n",
        "# Use the best hyperparameters to train the final model\n",
        "best_lr = 0.000113164928448851\n",
        "best_dropout = 0.32777037339537907\n",
        "best_batch_size = 32\n",
        "best_weight_decay = 1e-4  # Fixed value for weight decay\n",
        "\n",
        "# Initialize the model with the best hyperparameters\n",
        "final_model, criterion, optimizer = initialize_model(dropout_rate=best_dropout, learning_rate=best_lr, weight_decay=best_weight_decay)\n",
        "\n",
        "# Create data loaders with the best batch size\n",
        "train_loader = DataLoader(train_dataset, batch_size=best_batch_size, shuffle=True)\n",
        "val_loader = DataLoader(val_dataset, batch_size=best_batch_size)\n",
        "\n",
        "# Train the final model for 10 epochs\n",
        "train_losses, val_losses = [], []\n",
        "train_accuracies, val_accuracies = [], []\n",
        "\n",
        "\n",
        "def train_model_with_logging(model, criterion, optimizer, train_loader, val_loader, num_epochs=10, patience=3):\n",
        "    # Early stopping instance\n",
        "    early_stopping = EarlyStopping(patience=patience)\n",
        "    scheduler = ReduceLROnPlateau(optimizer, mode='min', factor=0.1, patience=3, verbose=True)\n",
        "\n",
        "    for epoch in range(num_epochs):\n",
        "        model.train()\n",
        "        running_loss, correct_train, total_train = 0.0, 0, 0\n",
        "\n",
        "        for images, labels in train_loader:\n",
        "            if images is None:\n",
        "                continue\n",
        "\n",
        "            images, labels = images.to(device), labels.to(device)\n",
        "            optimizer.zero_grad()\n",
        "\n",
        "            # Forward pass\n",
        "            outputs = model(images)\n",
        "            loss = criterion(outputs, labels)\n",
        "            loss.backward()\n",
        "            optimizer.step()\n",
        "\n",
        "            running_loss += loss.item()\n",
        "            preds = torch.sigmoid(outputs).round()  # For multi-label binary classification\n",
        "            correct_train += (preds == labels).sum().item()\n",
        "            total_train += labels.numel()\n",
        "\n",
        "        epoch_loss = running_loss / len(train_loader)\n",
        "        train_losses.append(epoch_loss)\n",
        "        train_accuracy = correct_train / total_train\n",
        "        train_accuracies.append(train_accuracy)\n",
        "\n",
        "        print(f\"Epoch {epoch + 1}/{num_epochs}, Loss: {epoch_loss:.4f}\")\n",
        "\n",
        "        # Validation step\n",
        "        val_loss, val_accuracy = evaluate_model(model, val_loader, criterion)\n",
        "        val_losses.append(val_loss)\n",
        "        val_accuracies.append(val_accuracy)\n",
        "        print(f\"Validation Loss: {val_loss:.4f}, Validation Accuracy: {val_accuracy:.4f}\")\n",
        "\n",
        "        # Step the LR scheduler\n",
        "        scheduler.step(val_loss)\n",
        "\n",
        "        # Check early stopping condition\n",
        "        early_stopping(val_loss)\n",
        "        if early_stopping.early_stop:\n",
        "            print(\"Early stopping triggered\")\n",
        "            break\n",
        "\n",
        "    return model\n",
        "\n",
        "# Train the final model\n",
        "final_model = train_model_with_logging(final_model, criterion, optimizer, train_loader, val_loader, num_epochs=25, patience=5)"
      ]
    },
    {
      "cell_type": "markdown",
      "metadata": {
        "id": "BigF1w8sKjMa"
      },
      "source": [
        "## Results Metrics and Visualizations"
      ]
    },
    {
      "cell_type": "code",
      "execution_count": 26,
      "metadata": {
        "colab": {
          "base_uri": "https://localhost:8080/",
          "height": 564
        },
        "id": "YjFpXPcomueU",
        "outputId": "da93bf8d-a95a-4599-fe74-fa6132939e64"
      },
      "outputs": [
        {
          "data": {
            "image/png": "[encoded data removed]",
            "text/plain": [
              "<Figure size 1200x600 with 2 Axes>"
            ]
          },
          "metadata": {},
          "output_type": "display_data"
        }
      ],
      "source": [
        "\n",
        "# Plot loss and accuracy curves\n",
        "epochs_range = range(1, len(train_losses) + 1)\n",
        "\n",
        "plt.figure(figsize=(12, 6))\n",
        "\n",
        "# Plot loss\n",
        "plt.subplot(1, 2, 1)\n",
        "plt.plot(epochs_range, val_losses, label='Validation Loss')\n",
        "plt.title('Loss vs. Epochs')\n",
        "plt.xlabel('Epochs')\n",
        "plt.ylabel('Loss')\n",
        "plt.legend()\n",
        "\n",
        "# Plot accuracy\n",
        "plt.subplot(1, 2, 2)\n",
        "plt.plot(epochs_range, val_accuracies, label='Validation Accuracy')\n",
        "plt.title('Accuracy vs. Epochs')\n",
        "plt.xlabel('Epochs')\n",
        "plt.ylabel('Accuracy')\n",
        "plt.legend()\n",
        "\n",
        "plt.show()"
      ]
    },
    {
      "cell_type": "code",
      "execution_count": 27,
      "metadata": {
        "colab": {
          "base_uri": "https://localhost:8080/",
          "height": 490
        },
        "id": "kE-eiObToaKk",
        "outputId": "a961fd65-bae0-47ca-a62c-e9afff9cb9de"
      },
      "outputs": [
        {
          "data": {
            "image/png": "[encoded data removed]",
            "text/plain": [
              "<Figure size 640x480 with 2 Axes>"
            ]
          },
          "metadata": {},
          "output_type": "display_data"
        },
        {
          "name": "stdout",
          "output_type": "stream",
          "text": [
            "Validation Loss: 0.2897, Validation Accuracy: 0.8782, Precision: 0.8139, Recall: 0.6847, F1 Score: 0.7384\n"
          ]
        }
      ],
      "source": [
        "import numpy as np\n",
        "import matplotlib.pyplot as plt\n",
        "from sklearn.metrics import confusion_matrix, ConfusionMatrixDisplay, f1_score, precision_score, recall_score\n",
        "\n",
        "# Modified evaluate_model function\n",
        "def evaluate_model(model, data_loader, criterion):\n",
        "    model.eval()  # Set the model to evaluation mode\n",
        "    all_preds = []\n",
        "    all_labels = []\n",
        "    total_loss = 0\n",
        "\n",
        "    with torch.no_grad():\n",
        "        for inputs, labels in data_loader:\n",
        "            outputs = model(inputs)\n",
        "            loss = criterion(outputs, labels)\n",
        "            total_loss += loss.item()\n",
        "\n",
        "            # Apply sigmoid to outputs for multi-label and threshold to get binary predictions\n",
        "            probs = torch.sigmoid(outputs)\n",
        "            preds = (probs > 0.5).float()  # Convert probabilities to binary predictions (0 or 1)\n",
        "\n",
        "            all_preds.extend(preds.cpu().numpy())  # Append binary predictions\n",
        "            all_labels.extend(labels.cpu().numpy())  # Append true labels\n",
        "\n",
        "    avg_loss = total_loss / len(data_loader)\n",
        "\n",
        "    # Convert lists to numpy arrays for evaluation\n",
        "    all_preds = np.array(all_preds)\n",
        "    all_labels = np.array(all_labels)\n",
        "\n",
        "    # Calculate accuracy\n",
        "    accuracy = (all_preds == all_labels).mean()\n",
        "\n",
        "    # Calculate precision, recall, and F1 score\n",
        "    precision = precision_score(all_labels, all_preds, average='weighted')\n",
        "    recall = recall_score(all_labels, all_preds, average='weighted')\n",
        "    f1 = f1_score(all_labels, all_preds, average='weighted')\n",
        "\n",
        "    # Plotting the confusion matrix\n",
        "    cm = confusion_matrix(all_labels.argmax(axis=1), all_preds.argmax(axis=1))  # Use argmax for multi-class confusion matrix\n",
        "    disp = ConfusionMatrixDisplay(confusion_matrix=cm)\n",
        "    disp.plot(cmap=plt.cm.Greens)\n",
        "    plt.title('Confusion Matrix')\n",
        "    plt.show()\n",
        "\n",
        "    return avg_loss, accuracy, precision, recall, f1\n",
        "\n",
        "# Example of using the evaluate_model function\n",
        "val_loss, val_accuracy, val_precision, val_recall, val_f1 = evaluate_model(final_model, val_loader, criterion)\n",
        "print(f\"Validation Loss: {val_loss:.4f}, Validation Accuracy: {val_accuracy:.4f}, Precision: {val_precision:.4f}, Recall: {val_recall:.4f}, F1 Score: {val_f1:.4f}\")\n"
      ]
    }
  ],
  "metadata": {
    "colab": {
      "provenance": []
    },
    "kernelspec": {
      "display_name": "Python 3",
      "name": "python3"
    },
    "language_info": {
      "name": "python"
    }
  },
  "nbformat": 4,
  "nbformat_minor": 0
}

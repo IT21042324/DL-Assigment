{
  "cells": [
    {
      "cell_type": "code",
      "execution_count": 2,
      "metadata": {
        "colab": {
          "base_uri": "https://localhost:8080/"
        },
        "id": "DNNoI5zDDe8V",
        "outputId": "01570d0b-5356-45db-a62b-94c4e5daf5cc"
      },
      "outputs": [
        {
          "name": "stdout",
          "output_type": "stream",
          "text": [
            "Collecting optuna\n",
            "  Downloading optuna-4.0.0-py3-none-any.whl.metadata (16 kB)\n",
            "Collecting alembic>=1.5.0 (from optuna)\n",
            "  Downloading alembic-1.13.3-py3-none-any.whl.metadata (7.4 kB)\n",
            "Collecting colorlog (from optuna)\n",
            "  Downloading colorlog-6.8.2-py3-none-any.whl.metadata (10 kB)\n",
            "Requirement already satisfied: numpy in /usr/local/lib/python3.10/dist-packages (from optuna) (1.26.4)\n",
            "Requirement already satisfied: packaging>=20.0 in /usr/local/lib/python3.10/dist-packages (from optuna) (24.1)\n",
            "Requirement already satisfied: sqlalchemy>=1.3.0 in /usr/local/lib/python3.10/dist-packages (from optuna) (2.0.35)\n",
            "Requirement already satisfied: tqdm in /usr/local/lib/python3.10/dist-packages (from optuna) (4.66.5)\n",
            "Requirement already satisfied: PyYAML in /usr/local/lib/python3.10/dist-packages (from optuna) (6.0.2)\n",
            "Collecting Mako (from alembic>=1.5.0->optuna)\n",
            "  Downloading Mako-1.3.5-py3-none-any.whl.metadata (2.9 kB)\n",
            "Requirement already satisfied: typing-extensions>=4 in /usr/local/lib/python3.10/dist-packages (from alembic>=1.5.0->optuna) (4.12.2)\n",
            "Requirement already satisfied: greenlet!=0.4.17 in /usr/local/lib/python3.10/dist-packages (from sqlalchemy>=1.3.0->optuna) (3.1.0)\n",
            "Requirement already satisfied: MarkupSafe>=0.9.2 in /usr/local/lib/python3.10/dist-packages (from Mako->alembic>=1.5.0->optuna) (2.1.5)\n",
            "Downloading optuna-4.0.0-py3-none-any.whl (362 kB)\n",
            "\u001b[2K   \u001b[90m━━━━━━━━━━━━━━━━━━━━━━━━━━━━━━━━━━━━━━━━\u001b[0m \u001b[32m362.8/362.8 kB\u001b[0m \u001b[31m9.4 MB/s\u001b[0m eta \u001b[36m0:00:00\u001b[0m\n",
            "\u001b[?25hDownloading alembic-1.13.3-py3-none-any.whl (233 kB)\n",
            "\u001b[2K   \u001b[90m━━━━━━━━━━━━━━━━━━━━━━━━━━━━━━━━━━━━━━━━\u001b[0m \u001b[32m233.2/233.2 kB\u001b[0m \u001b[31m17.1 MB/s\u001b[0m eta \u001b[36m0:00:00\u001b[0m\n",
            "\u001b[?25hDownloading colorlog-6.8.2-py3-none-any.whl (11 kB)\n",
            "Downloading Mako-1.3.5-py3-none-any.whl (78 kB)\n",
            "\u001b[2K   \u001b[90m━━━━━━━━━━━━━━━━━━━━━━━━━━━━━━━━━━━━━━━━\u001b[0m \u001b[32m78.6/78.6 kB\u001b[0m \u001b[31m5.9 MB/s\u001b[0m eta \u001b[36m0:00:00\u001b[0m\n",
            "\u001b[?25hInstalling collected packages: Mako, colorlog, alembic, optuna\n",
            "Successfully installed Mako-1.3.5 alembic-1.13.3 colorlog-6.8.2 optuna-4.0.0\n"
          ]
        }
      ],
      "source": [
        "# !pip install optuna\n",
        "import os\n",
        "import pandas as pd\n",
        "import numpy as np\n",
        "import random\n",
        "from PIL import Image, UnidentifiedImageError\n",
        "import torch\n",
        "from torch.utils.data import Dataset, DataLoader\n",
        "from torch.utils.data import Subset\n",
        "import torchvision.transforms as transforms\n",
        "import torch.nn as nn\n",
        "import torch.optim as optim\n",
        "import torchvision.models as models\n",
        "import optuna\n",
        "from optuna import TrialPruned\n",
        "import matplotlib.pyplot as plt\n",
        "from torch.optim.lr_scheduler import ReduceLROnPlateau\n",
        "from sklearn.model_selection import train_test_split\n",
        "from torchvision import models\n",
        "from torch.optim.lr_scheduler import StepLR\n",
        "from torch.utils.data import DataLoader\n",
        "from sklearn.metrics import confusion_matrix, ConfusionMatrixDisplay\n",
        "\n",
        "\n"
      ]
    },
    {
      "cell_type": "code",
      "execution_count": 3,
      "metadata": {
        "id": "ygyA4STAQ0pj"
      },
      "outputs": [],
      "source": [
        "\n",
        "# Device configuration\n",
        "device = torch.device(\"cuda:0\" if torch.cuda.is_available() else \"cpu\")\n",
        "\n",
        "# Load the CSV\n",
        "csv_file = 'drive/MyDrive/updated_image_labels.csv'\n",
        "data_df = pd.read_csv(csv_file)\n"
      ]
    },
    {
      "cell_type": "markdown",
      "metadata": {},
      "source": [
        "## Preparing the dataset"
      ]
    },
    {
      "cell_type": "code",
      "execution_count": 4,
      "metadata": {
        "id": "1AtIUi2hW_Ga"
      },
      "outputs": [],
      "source": [
        "\n",
        "# Dataset class\n",
        "class SkinConditionDataset(Dataset):\n",
        "    def __init__(self, dataframe, img_dir, transform=None):\n",
        "        self.dataframe = dataframe\n",
        "        self.img_dir = img_dir\n",
        "        self.transform = transform\n",
        "\n",
        "    def __len__(self):\n",
        "        return len(self.dataframe)\n",
        "\n",
        "    def __getitem__(self, idx):\n",
        "        img_name = self.dataframe.iloc[idx, 0]\n",
        "        img_path = os.path.join(self.img_dir, img_name)\n",
        "\n",
        "        try:\n",
        "            image = Image.open(img_path)\n",
        "\n",
        "            # Convert image to RGB if it's not\n",
        "            if image.mode != 'RGB':\n",
        "                image = image.convert('RGB')\n",
        "        except (FileNotFoundError, UnidentifiedImageError) as e:\n",
        "            print(f\"Skipping file {img_name}, as it is not a valid image: {e}\")\n",
        "            return None\n",
        "\n",
        "        # Ensure the labels are converted to float\n",
        "        labels = self.dataframe.iloc[idx, 1:].values.astype('float32')\n",
        "\n",
        "        if self.transform:\n",
        "            image = self.transform(image)\n",
        "\n",
        "        return image, torch.tensor(labels, dtype=torch.float32) \n",
        "\n",
        "# Define image transformations with more aggressive data augmentation\n",
        "data_transforms = transforms.Compose([\n",
        "    transforms.Resize((224, 224)),\n",
        "    transforms.RandomResizedCrop(size=(224, 224), scale=(0.8, 1.0)),  # Randomly crop images\n",
        "    transforms.RandomHorizontalFlip(),\n",
        "    transforms.RandomRotation(10),\n",
        "    transforms.ColorJitter(brightness=0.2, contrast=0.2, saturation=0.2, hue=0.1),\n",
        "    transforms.ToTensor(),\n",
        "    transforms.Normalize(mean=[0.485, 0.456, 0.406], std=[0.229, 0.224, 0.225])  # Normalization for 3 channels\n",
        "])\n"
      ]
    },
    {
      "cell_type": "markdown",
      "metadata": {},
      "source": [
        "## Loading the dataset"
      ]
    },
    {
      "cell_type": "code",
      "execution_count": 5,
      "metadata": {
        "colab": {
          "base_uri": "https://localhost:8080/"
        },
        "id": "MUyvtiISXH1t",
        "outputId": "693fd1bb-147f-4e6c-ccfd-70903d53d9d1"
      },
      "outputs": [
        {
          "name": "stdout",
          "output_type": "stream",
          "text": [
            "Skipping file desktop.ini, as it is not a valid image: cannot identify image file '/content/drive/MyDrive/images/acne_image_multi_label/desktop.ini'\n"
          ]
        }
      ],
      "source": [
        "\n",
        "# Load the dataset\n",
        "img_dir = 'drive/MyDrive/images/acne_image_multi_label'\n",
        "\n",
        "# Split the data into training and validation sets\n",
        "train_df, val_df = train_test_split(data_df, test_size=0.2, random_state=42)\n",
        "\n",
        "# Create datasets for train and validation\n",
        "train_dataset = SkinConditionDataset(dataframe=train_df, img_dir=img_dir, transform=data_transforms)\n",
        "val_dataset = SkinConditionDataset(dataframe=val_df, img_dir=img_dir, transform=data_transforms)\n",
        "\n",
        "# Filter out None entries (skipped images)\n",
        "train_dataset = [item for item in train_dataset if item is not None]\n",
        "val_dataset = [item for item in val_dataset if item is not None]\n",
        "\n",
        "# Data loaders\n",
        "train_loader = DataLoader(train_dataset, batch_size=32, shuffle=True)\n",
        "val_loader = DataLoader(val_dataset, batch_size=32, shuffle=False)"
      ]
    },
    {
      "cell_type": "code",
      "execution_count": 6,
      "metadata": {
        "id": "VpKI7Ea943q2"
      },
      "outputs": [],
      "source": [
        "# Early stopping implementation\n",
        "class EarlyStopping:\n",
        "    def __init__(self, patience=5, delta=0.001):\n",
        "        self.patience = patience\n",
        "        self.delta = delta\n",
        "        self.counter = 0\n",
        "        self.best_loss = np.Inf\n",
        "        self.early_stop = False\n",
        "\n",
        "    def __call__(self, val_loss):\n",
        "        if val_loss < self.best_loss - self.delta:\n",
        "            self.best_loss = val_loss\n",
        "            self.counter = 0\n",
        "        else:\n",
        "            self.counter += 1\n",
        "            if self.counter >= self.patience:\n",
        "                self.early_stop = True"
      ]
    },
    {
      "cell_type": "markdown",
      "metadata": {},
      "source": [
        "## Initializing the model"
      ]
    },
    {
      "cell_type": "code",
      "execution_count": 7,
      "metadata": {
        "id": "FooBp2fAXKH-"
      },
      "outputs": [],
      "source": [
        "# Function to initialize the model with customizable hyperparameters\n",
        "def initialize_model(dropout_rate, learning_rate, weight_decay):\n",
        "    model = models.resnet34(pretrained=True)\n",
        "    num_classes = 5  \n",
        "\n",
        "    # Replace the fully connected layer with dropout and customized output\n",
        "    model.fc = nn.Sequential(\n",
        "        nn.Dropout(p=dropout_rate),\n",
        "        nn.Linear(model.fc.in_features, num_classes),\n",
        "    )\n",
        "\n",
        "    model = model.to(device)\n",
        "\n",
        "    # Define loss function and optimizer\n",
        "    criterion = nn.BCEWithLogitsLoss()  # Binary classification, multi-label\n",
        "    optimizer = optim.Adam(model.parameters(), lr=learning_rate, weight_decay=weight_decay)  # L2 regularization through weight decay\n",
        "\n",
        "    return model, criterion, optimizer"
      ]
    },
    {
      "cell_type": "markdown",
      "metadata": {},
      "source": [
        "## Hyperparameter Tuning"
      ]
    },
    {
      "cell_type": "code",
      "execution_count": 8,
      "metadata": {
        "id": "BEerH1zeXXqX"
      },
      "outputs": [],
      "source": [
        "\n",
        "# Evaluation function\n",
        "def evaluate_model(model, dataloader, criterion):\n",
        "    model.eval()\n",
        "    total_loss = 0.0\n",
        "    correct = 0\n",
        "    total = 0\n",
        "\n",
        "    with torch.no_grad():\n",
        "        for images, labels in dataloader:\n",
        "            if images is None:\n",
        "                continue\n",
        "\n",
        "            images, labels = images.to(device), labels.to(device)\n",
        "            outputs = model(images)\n",
        "            loss = criterion(outputs, labels)\n",
        "            total_loss += loss.item()\n",
        "\n",
        "            # Calculate accuracy\n",
        "            preds = torch.sigmoid(outputs).round()  # For multi-label binary classification\n",
        "            correct += (preds == labels).sum().item()\n",
        "            total += labels.numel()\n",
        "\n",
        "    average_loss = total_loss / len(dataloader)\n",
        "    accuracy = correct / total\n",
        "\n",
        "    return average_loss, accuracy\n",
        "\n",
        "# Training function\n",
        "def train_model(model, criterion, optimizer, train_loader, val_loader, num_epochs=20, patience=5):\n",
        "    train_losses, val_losses = [], []\n",
        "    train_accuracies, val_accuracies = [], []\n",
        "\n",
        "    # Early stopping instance\n",
        "    early_stopping = EarlyStopping(patience=patience)\n",
        "\n",
        "    # LR scheduler that reduces LR when a metric has stopped improving\n",
        "    scheduler = ReduceLROnPlateau(optimizer, mode='min', factor=0.1, patience=3, verbose=True)\n",
        "\n",
        "    for epoch in range(num_epochs):\n",
        "        model.train()\n",
        "        running_loss = 0.0\n",
        "        correct_train = 0\n",
        "        total_train = 0\n",
        "\n",
        "        for images, labels in train_loader:\n",
        "            if images is None:\n",
        "                continue\n",
        "\n",
        "            images, labels = images.to(device), labels.to(device)\n",
        "            optimizer.zero_grad()\n",
        "\n",
        "            # Forward pass\n",
        "            outputs = model(images)\n",
        "            loss = criterion(outputs, labels)\n",
        "            loss.backward()\n",
        "            optimizer.step()\n",
        "\n",
        "            running_loss += loss.item()\n",
        "\n",
        "            # Calculate training accuracy\n",
        "            preds = torch.sigmoid(outputs).round()  # For multi-label binary classification\n",
        "            correct_train += (preds == labels).sum().item()\n",
        "            total_train += labels.numel()\n",
        "\n",
        "        epoch_loss = running_loss / len(train_loader)\n",
        "        train_losses.append(epoch_loss)\n",
        "        train_accuracy = correct_train / total_train\n",
        "        train_accuracies.append(train_accuracy)\n",
        "\n",
        "        print(f\"Epoch {epoch + 1}/{num_epochs}, Loss: {epoch_loss:.4f}, Accuracy: {train_accuracy:.4f}\")\n",
        "\n",
        "        # Validation step\n",
        "        val_loss, val_accuracy = evaluate_model(model, val_loader, criterion)\n",
        "        val_losses.append(val_loss)\n",
        "        val_accuracies.append(val_accuracy)\n",
        "        print(f\"Validation Loss: {val_loss:.4f}, Validation Accuracy: {val_accuracy:.4f}\")\n",
        "\n",
        "        # Step the LR scheduler\n",
        "        scheduler.step(val_loss)\n",
        "\n",
        "        # Check early stopping condition\n",
        "        early_stopping(val_loss)\n",
        "        if early_stopping.early_stop:\n",
        "            print(\"Early stopping triggered\")\n",
        "            break\n",
        "\n",
        "    return model\n",
        "\n",
        "\n"
      ]
    },
    {
      "cell_type": "code",
      "execution_count": 11,
      "metadata": {
        "colab": {
          "base_uri": "https://localhost:8080/"
        },
        "id": "J1_CrbzoXclc",
        "outputId": "f13105c8-e9aa-4f33-e0cd-9908b88cbe99"
      },
      "outputs": [
        {
          "name": "stderr",
          "output_type": "stream",
          "text": [
            "[I 2024-10-05 14:48:10,602] A new study created in memory with name: no-name-6ca236b5-580c-4672-ad11-af6d99f6e8fe\n",
            "<ipython-input-11-c7f3ec2b41ba>:10: FutureWarning: suggest_loguniform has been deprecated in v3.0.0. This feature will be removed in v6.0.0. See https://github.com/optuna/optuna/releases/tag/v3.0.0. Use suggest_float(..., log=True) instead.\n",
            "  lr = trial.suggest_loguniform('lr', 1e-5, 1e-2)\n",
            "<ipython-input-11-c7f3ec2b41ba>:11: FutureWarning: suggest_uniform has been deprecated in v3.0.0. This feature will be removed in v6.0.0. See https://github.com/optuna/optuna/releases/tag/v3.0.0. Use suggest_float instead.\n",
            "  dropout = trial.suggest_uniform('dropout', 0.2, 0.6)\n",
            "/usr/local/lib/python3.10/dist-packages/torchvision/models/_utils.py:208: UserWarning: The parameter 'pretrained' is deprecated since 0.13 and may be removed in the future, please use 'weights' instead.\n",
            "  warnings.warn(\n",
            "/usr/local/lib/python3.10/dist-packages/torchvision/models/_utils.py:223: UserWarning: Arguments other than a weight enum or `None` for 'weights' are deprecated since 0.13 and may be removed in the future. The current behavior is equivalent to passing `weights=ResNet34_Weights.IMAGENET1K_V1`. You can also use `weights=ResNet34_Weights.DEFAULT` to get the most up-to-date weights.\n",
            "  warnings.warn(msg)\n",
            "Downloading: \"https://download.pytorch.org/models/resnet34-b627a593.pth\" to /root/.cache/torch/hub/checkpoints/resnet34-b627a593.pth\n",
            "100%|██████████| 83.3M/83.3M [00:00<00:00, 130MB/s]\n",
            "[I 2024-10-05 14:53:11,593] Trial 0 finished with value: 204.74310811360678 and parameters: {'lr': 0.0024659266648023506, 'dropout': 0.36719912112614583}. Best is trial 0 with value: 204.74310811360678.\n",
            "[I 2024-10-05 14:58:08,354] Trial 1 finished with value: 0.7544125914573669 and parameters: {'lr': 0.0004405827907435796, 'dropout': 0.5515260139026035}. Best is trial 1 with value: 0.7544125914573669.\n",
            "[I 2024-10-05 15:03:06,703] Trial 2 finished with value: 0.9091331958770752 and parameters: {'lr': 0.0006404617909707822, 'dropout': 0.221411642744109}. Best is trial 1 with value: 0.7544125914573669.\n",
            "[I 2024-10-05 15:08:00,823] Trial 3 finished with value: 120.94042205810547 and parameters: {'lr': 0.004527925688793019, 'dropout': 0.2174049692163605}. Best is trial 1 with value: 0.7544125914573669.\n",
            "[I 2024-10-05 15:12:59,349] Trial 4 finished with value: 107.11429087320964 and parameters: {'lr': 0.004892751480188716, 'dropout': 0.4251518821151865}. Best is trial 1 with value: 0.7544125914573669.\n",
            "[I 2024-10-05 15:18:19,793] Trial 5 finished with value: 0.6676744023958842 and parameters: {'lr': 1.4907468222702321e-05, 'dropout': 0.33445369828820815}. Best is trial 5 with value: 0.6676744023958842.\n",
            "[I 2024-10-05 15:23:18,151] Trial 6 finished with value: 0.775748630364736 and parameters: {'lr': 0.0005102549078204052, 'dropout': 0.21675542513820575}. Best is trial 5 with value: 0.6676744023958842.\n"
          ]
        },
        {
          "name": "stdout",
          "output_type": "stream",
          "text": [
            "Best Hyperparameters: {'lr': 1.4907468222702321e-05, 'dropout': 0.33445369828820815}, Best Validation Loss: 0.6677\n"
          ]
        }
      ],
      "source": [
        "def reduce_dataset(dataset, percentage=0.1):\n",
        "    dataset_size = len(dataset)\n",
        "    reduced_size = int(dataset_size * percentage)\n",
        "    indices = random.sample(range(dataset_size), reduced_size)\n",
        "    return Subset(dataset, indices)\n",
        "\n",
        "# Define the objective function for Optuna with pruning\n",
        "def objective(trial):\n",
        "    # Suggest values for hyperparameters\n",
        "    lr = trial.suggest_loguniform('lr', 1e-5, 1e-2)\n",
        "    dropout = trial.suggest_uniform('dropout', 0.2, 0.6)\n",
        "    batch_size = 32  # Fixed\n",
        "    weight_decay = 1e-4  # Fixed value for weight decay\n",
        "\n",
        "    # Initialize model with suggested hyperparameters\n",
        "    model, criterion, optimizer = initialize_model(dropout_rate=dropout, learning_rate=lr, weight_decay=weight_decay)\n",
        "\n",
        "    # Take only subset to find best hyperparameters\n",
        "    reduced_train_dataset = reduce_dataset(train_dataset, percentage=0.1)  # Using 10% of the original dataset\n",
        "    reduced_val_dataset = reduce_dataset(val_dataset, percentage=0.3)\n",
        "\n",
        "    # DataLoader for reduced datasets\n",
        "    train_loader = DataLoader(reduced_train_dataset, batch_size=batch_size, shuffle=True)\n",
        "    val_loader = DataLoader(reduced_val_dataset, batch_size=batch_size)\n",
        "\n",
        "    # Number of epochs for hyperparameter search\n",
        "    num_epochs = 5\n",
        "    patience = 2  # Early stopping patience\n",
        "\n",
        "    # Track validation loss for pruning\n",
        "    val_losses = []\n",
        "\n",
        "    for epoch in range(num_epochs):\n",
        "        # Train the model\n",
        "        model.train()\n",
        "        for images, labels in train_loader:\n",
        "            images, labels = images.to(device), labels.to(device)\n",
        "            optimizer.zero_grad()\n",
        "            outputs = model(images)\n",
        "            loss = criterion(outputs, labels)\n",
        "            loss.backward()\n",
        "            optimizer.step()\n",
        "\n",
        "        # Evaluate model on validation data\n",
        "        val_loss, val_accuracy = evaluate_model(model, val_loader, criterion)\n",
        "        val_losses.append(val_loss)\n",
        "\n",
        "        # Report intermediate results to Optuna (for pruning)\n",
        "        trial.report(val_loss, epoch)\n",
        "\n",
        "        # Prune if the trial should be stopped early\n",
        "        if trial.should_prune():\n",
        "            raise TrialPruned()\n",
        "\n",
        "    # Return final validation loss as the objective metric\n",
        "    return val_loss\n",
        "\n",
        "# Define the Optuna study and run the hyperparameter search with pruning\n",
        "study = optuna.create_study(direction=\"minimize\", pruner=optuna.pruners.MedianPruner())\n",
        "study.optimize(objective, n_trials=7)\n",
        "\n",
        "# Get the best hyperparameters from the study\n",
        "best_params = study.best_params\n",
        "print(f\"Best Hyperparameters: {best_params}, Best Validation Loss: {study.best_value:.4f}\")\n"
      ]
    },
    {
      "cell_type": "markdown",
      "metadata": {},
      "source": [
        "## Training the final model"
      ]
    },
    {
      "cell_type": "code",
      "execution_count": 9,
      "metadata": {
        "colab": {
          "base_uri": "https://localhost:8080/"
        },
        "id": "B8iKar405wRO",
        "outputId": "69b6f301-676d-4365-c6fc-26442f21f05f"
      },
      "outputs": [
        {
          "name": "stderr",
          "output_type": "stream",
          "text": [
            "/usr/local/lib/python3.10/dist-packages/torchvision/models/_utils.py:208: UserWarning: The parameter 'pretrained' is deprecated since 0.13 and may be removed in the future, please use 'weights' instead.\n",
            "  warnings.warn(\n",
            "/usr/local/lib/python3.10/dist-packages/torchvision/models/_utils.py:223: UserWarning: Arguments other than a weight enum or `None` for 'weights' are deprecated since 0.13 and may be removed in the future. The current behavior is equivalent to passing `weights=ResNet34_Weights.IMAGENET1K_V1`. You can also use `weights=ResNet34_Weights.DEFAULT` to get the most up-to-date weights.\n",
            "  warnings.warn(msg)\n",
            "Downloading: \"https://download.pytorch.org/models/resnet34-b627a593.pth\" to /root/.cache/torch/hub/checkpoints/resnet34-b627a593.pth\n",
            "100%|██████████| 83.3M/83.3M [00:01<00:00, 82.7MB/s]\n",
            "/usr/local/lib/python3.10/dist-packages/torch/optim/lr_scheduler.py:60: UserWarning: The verbose parameter is deprecated. Please use get_last_lr() to access the learning rate.\n",
            "  warnings.warn(\n"
          ]
        },
        {
          "name": "stdout",
          "output_type": "stream",
          "text": [
            "Epoch 1/25, Loss: 0.6412\n",
            "Validation Loss: 0.5686, Validation Accuracy: 0.7211\n",
            "Epoch 2/25, Loss: 0.4743\n",
            "Validation Loss: 0.4770, Validation Accuracy: 0.7939\n",
            "Epoch 3/25, Loss: 0.3628\n",
            "Validation Loss: 0.4209, Validation Accuracy: 0.8176\n",
            "Epoch 4/25, Loss: 0.2883\n",
            "Validation Loss: 0.3851, Validation Accuracy: 0.8276\n",
            "Epoch 5/25, Loss: 0.2310\n",
            "Validation Loss: 0.3648, Validation Accuracy: 0.8398\n",
            "Epoch 6/25, Loss: 0.1823\n",
            "Validation Loss: 0.3468, Validation Accuracy: 0.8506\n",
            "Epoch 7/25, Loss: 0.1373\n",
            "Validation Loss: 0.3359, Validation Accuracy: 0.8490\n",
            "Epoch 8/25, Loss: 0.1137\n",
            "Validation Loss: 0.3269, Validation Accuracy: 0.8575\n",
            "Epoch 9/25, Loss: 0.0878\n",
            "Validation Loss: 0.3270, Validation Accuracy: 0.8575\n",
            "Epoch 10/25, Loss: 0.0772\n",
            "Validation Loss: 0.3250, Validation Accuracy: 0.8582\n",
            "Epoch 11/25, Loss: 0.0628\n",
            "Validation Loss: 0.3176, Validation Accuracy: 0.8605\n",
            "Epoch 12/25, Loss: 0.0520\n",
            "Validation Loss: 0.3125, Validation Accuracy: 0.8736\n",
            "Epoch 13/25, Loss: 0.0483\n",
            "Validation Loss: 0.3208, Validation Accuracy: 0.8613\n",
            "Epoch 14/25, Loss: 0.0422\n",
            "Validation Loss: 0.3148, Validation Accuracy: 0.8713\n",
            "Epoch 15/25, Loss: 0.0415\n",
            "Validation Loss: 0.3213, Validation Accuracy: 0.8690\n",
            "Epoch 16/25, Loss: 0.0340\n",
            "Validation Loss: 0.3195, Validation Accuracy: 0.8720\n",
            "Epoch 17/25, Loss: 0.0352\n",
            "Validation Loss: 0.3153, Validation Accuracy: 0.8697\n",
            "Early stopping triggered\n"
          ]
        }
      ],
      "source": [
        "\n",
        "# Use the best hyperparameters and some fixed values to train the final model\n",
        "best_lr = best_params['lr']\n",
        "best_dropout = best_params['dropout']\n",
        "best_batch_size = 32\n",
        "best_weight_decay = 1e-4  \n",
        "\n",
        "# Initialize the model with the best hyperparameters\n",
        "final_model, criterion, optimizer = initialize_model(dropout_rate=best_dropout, learning_rate=best_lr, weight_decay=best_weight_decay)\n",
        "\n",
        "# Create data loaders with the best batch size\n",
        "train_loader = DataLoader(train_dataset, batch_size=best_batch_size, shuffle=True)\n",
        "val_loader = DataLoader(val_dataset, batch_size=best_batch_size)\n",
        "\n",
        "# Train the final model for 25 epochs\n",
        "train_losses, val_losses = [], []\n",
        "train_accuracies, val_accuracies = [], []\n",
        "\n",
        "\n",
        "def train_model_with_logging(model, criterion, optimizer, train_loader, val_loader, num_epochs=30, patience=6):\n",
        "    # Early stopping instance\n",
        "    early_stopping = EarlyStopping(patience=patience)\n",
        "    scheduler = ReduceLROnPlateau(optimizer, mode='min', factor=0.1, patience=3, verbose=True)\n",
        "\n",
        "    for epoch in range(num_epochs):\n",
        "        model.train()\n",
        "        running_loss, correct_train, total_train = 0.0, 0, 0\n",
        "\n",
        "        for images, labels in train_loader:\n",
        "            if images is None:\n",
        "                continue\n",
        "\n",
        "            images, labels = images.to(device), labels.to(device)\n",
        "            optimizer.zero_grad()\n",
        "\n",
        "            # Forward pass\n",
        "            outputs = model(images)\n",
        "            loss = criterion(outputs, labels)\n",
        "            loss.backward()\n",
        "            optimizer.step()\n",
        "\n",
        "            running_loss += loss.item()\n",
        "            preds = torch.sigmoid(outputs).round()  # For multi-label binary classification\n",
        "            correct_train += (preds == labels).sum().item()\n",
        "            total_train += labels.numel()\n",
        "\n",
        "        epoch_loss = running_loss / len(train_loader)\n",
        "        train_losses.append(epoch_loss)\n",
        "        train_accuracy = correct_train / total_train\n",
        "        train_accuracies.append(train_accuracy)\n",
        "\n",
        "        print(f\"Epoch {epoch + 1}/{num_epochs}, Loss: {epoch_loss:.4f}\")\n",
        "\n",
        "        # Validation step\n",
        "        val_loss, val_accuracy = evaluate_model(model, val_loader, criterion)\n",
        "        val_losses.append(val_loss)\n",
        "        val_accuracies.append(val_accuracy)\n",
        "        print(f\"Validation Loss: {val_loss:.4f}, Validation Accuracy: {val_accuracy:.4f}\")\n",
        "\n",
        "        # Step the LR scheduler\n",
        "        scheduler.step(val_loss)\n",
        "\n",
        "        # Check early stopping condition\n",
        "        early_stopping(val_loss)\n",
        "        if early_stopping.early_stop:\n",
        "            print(\"Early stopping triggered\")\n",
        "            break\n",
        "\n",
        "    return model\n",
        "\n",
        "# Train the final model\n",
        "final_model = train_model_with_logging(final_model, criterion, optimizer, train_loader, val_loader, num_epochs=25, patience=5)"
      ]
    },
    {
      "cell_type": "markdown",
      "metadata": {},
      "source": [
        "## Result Metrics and Visualizations"
      ]
    },
    {
      "cell_type": "code",
      "execution_count": 10,
      "metadata": {
        "colab": {
          "base_uri": "https://localhost:8080/",
          "height": 564
        },
        "id": "g-0UN7Wa9T_U",
        "outputId": "d2bdb8b1-f0cf-4cf1-a15f-f670b21d2586"
      },
      "outputs": [
        {
          "data": {
            "image/png": "[encoded data removed]",
            "text/plain": [
              "<Figure size 1200x600 with 2 Axes>"
            ]
          },
          "metadata": {},
          "output_type": "display_data"
        }
      ],
      "source": [
        "\n",
        "# Plot loss and accuracy curves\n",
        "epochs_range = range(1, len(train_losses) + 1)\n",
        "\n",
        "plt.figure(figsize=(12, 6))\n",
        "\n",
        "# Plot loss\n",
        "plt.subplot(1, 2, 1)\n",
        "plt.plot(epochs_range, val_losses, label='Validation Loss')\n",
        "plt.title('Loss vs. Epochs')\n",
        "plt.xlabel('Epochs')\n",
        "plt.ylabel('Loss')\n",
        "plt.legend()\n",
        "\n",
        "# Plot accuracy\n",
        "plt.subplot(1, 2, 2)\n",
        "plt.plot(epochs_range, val_accuracies, label='Validation Accuracy')\n",
        "plt.title('Accuracy vs. Epochs')\n",
        "plt.xlabel('Epochs')\n",
        "plt.ylabel('Accuracy')\n",
        "plt.legend()\n",
        "\n",
        "plt.show()"
      ]
    },
    {
      "cell_type": "code",
      "execution_count": 11,
      "metadata": {
        "colab": {
          "base_uri": "https://localhost:8080/",
          "height": 490
        },
        "id": "xJoUTuYJmzAt",
        "outputId": "6a4e314c-d38a-417b-efdd-17478f09d78b"
      },
      "outputs": [
        {
          "data": {
            "image/png": "[encoded data removed]",
            "text/plain": [
              "<Figure size 640x480 with 2 Axes>"
            ]
          },
          "metadata": {},
          "output_type": "display_data"
        },
        {
          "name": "stdout",
          "output_type": "stream",
          "text": [
            "Validation Loss: 0.3153, Validation Accuracy: 0.8697, Precision: 0.7871, Recall: 0.6727, F1 Score: 0.7242\n"
          ]
        }
      ],
      "source": [
        "import numpy as np\n",
        "import matplotlib.pyplot as plt\n",
        "from sklearn.metrics import confusion_matrix, ConfusionMatrixDisplay, f1_score, precision_score, recall_score\n",
        "\n",
        "# Modified evaluate_model function\n",
        "def evaluate_model(model, data_loader, criterion):\n",
        "    model.eval()  # Set the model to evaluation mode\n",
        "    all_preds = []\n",
        "    all_labels = []\n",
        "    total_loss = 0\n",
        "\n",
        "    with torch.no_grad():\n",
        "        for inputs, labels in data_loader:\n",
        "            outputs = model(inputs)\n",
        "            loss = criterion(outputs, labels)\n",
        "            total_loss += loss.item()\n",
        "\n",
        "            # Apply sigmoid to outputs for multi-label and threshold to get binary predictions\n",
        "            probs = torch.sigmoid(outputs)\n",
        "            preds = (probs > 0.5).float()  # Convert probabilities to binary predictions (0 or 1)\n",
        "\n",
        "            all_preds.extend(preds.cpu().numpy())  # Append binary predictions\n",
        "            all_labels.extend(labels.cpu().numpy())  # Append true labels\n",
        "\n",
        "    avg_loss = total_loss / len(data_loader)\n",
        "\n",
        "    # Convert lists to numpy arrays for evaluation\n",
        "    all_preds = np.array(all_preds)\n",
        "    all_labels = np.array(all_labels)\n",
        "\n",
        "    # Calculate accuracy\n",
        "    accuracy = (all_preds == all_labels).mean()\n",
        "\n",
        "    # Calculate precision, recall, and F1 score\n",
        "    precision = precision_score(all_labels, all_preds, average='weighted')\n",
        "    recall = recall_score(all_labels, all_preds, average='weighted')\n",
        "    f1 = f1_score(all_labels, all_preds, average='weighted')\n",
        "\n",
        "    # Plotting the confusion matrix\n",
        "    cm = confusion_matrix(all_labels.argmax(axis=1), all_preds.argmax(axis=1))  # Use argmax for multi-class confusion matrix\n",
        "    disp = ConfusionMatrixDisplay(confusion_matrix=cm)\n",
        "    disp.plot(cmap=plt.cm.Blues)\n",
        "    plt.title('Confusion Matrix')\n",
        "    plt.show()\n",
        "\n",
        "    return avg_loss, accuracy, precision, recall, f1\n",
        "\n",
        "# Evaluation\n",
        "val_loss, val_accuracy, val_precision, val_recall, val_f1 = evaluate_model(final_model, val_loader, criterion)\n",
        "print(f\"Validation Loss: {val_loss:.4f}, Validation Accuracy: {val_accuracy:.4f}, Precision: {val_precision:.4f}, Recall: {val_recall:.4f}, F1 Score: {val_f1:.4f}\")\n"
      ]
    }
  ],
  "metadata": {
    "colab": {
      "provenance": []
    },
    "kernelspec": {
      "display_name": "Python 3",
      "name": "python3"
    },
    "language_info": {
      "name": "python"
    }
  },
  "nbformat": 4,
  "nbformat_minor": 0
}
